{
 "cells": [
  {
   "cell_type": "code",
   "execution_count": 1,
   "metadata": {},
   "outputs": [
    {
     "name": "stderr",
     "output_type": "stream",
     "text": [
      "In C:\\ProgramData\\Anaconda3\\lib\\site-packages\\matplotlib\\mpl-data\\stylelib\\_classic_test.mplstyle: \n",
      "The text.latex.preview rcparam was deprecated in Matplotlib 3.3 and will be removed two minor releases later.\n",
      "In C:\\ProgramData\\Anaconda3\\lib\\site-packages\\matplotlib\\mpl-data\\stylelib\\_classic_test.mplstyle: \n",
      "The mathtext.fallback_to_cm rcparam was deprecated in Matplotlib 3.3 and will be removed two minor releases later.\n",
      "In C:\\ProgramData\\Anaconda3\\lib\\site-packages\\matplotlib\\mpl-data\\stylelib\\_classic_test.mplstyle: Support for setting the 'mathtext.fallback_to_cm' rcParam is deprecated since 3.3 and will be removed two minor releases later; use 'mathtext.fallback : 'cm' instead.\n",
      "In C:\\ProgramData\\Anaconda3\\lib\\site-packages\\matplotlib\\mpl-data\\stylelib\\_classic_test.mplstyle: \n",
      "The validate_bool_maybe_none function was deprecated in Matplotlib 3.3 and will be removed two minor releases later.\n",
      "In C:\\ProgramData\\Anaconda3\\lib\\site-packages\\matplotlib\\mpl-data\\stylelib\\_classic_test.mplstyle: \n",
      "The savefig.jpeg_quality rcparam was deprecated in Matplotlib 3.3 and will be removed two minor releases later.\n",
      "In C:\\ProgramData\\Anaconda3\\lib\\site-packages\\matplotlib\\mpl-data\\stylelib\\_classic_test.mplstyle: \n",
      "The keymap.all_axes rcparam was deprecated in Matplotlib 3.3 and will be removed two minor releases later.\n",
      "In C:\\ProgramData\\Anaconda3\\lib\\site-packages\\matplotlib\\mpl-data\\stylelib\\_classic_test.mplstyle: \n",
      "The animation.avconv_path rcparam was deprecated in Matplotlib 3.3 and will be removed two minor releases later.\n",
      "In C:\\ProgramData\\Anaconda3\\lib\\site-packages\\matplotlib\\mpl-data\\stylelib\\_classic_test.mplstyle: \n",
      "The animation.avconv_args rcparam was deprecated in Matplotlib 3.3 and will be removed two minor releases later.\n"
     ]
    }
   ],
   "source": [
    "import numpy as np\n",
    "import sklearn\n",
    "import h5py as h5\n",
    "import os\n",
    "import pandas as pd\n",
    "import matplotlib.pyplot as plt\n",
    "import seaborn as sns\n",
    "sns.set();\n",
    "\n",
    "from sklearn.preprocessing import LabelEncoder\n",
    "from sklearn.model_selection import train_test_split\n",
    "\n",
    "from Bio import SeqIO"
   ]
  },
  {
   "cell_type": "code",
   "execution_count": 2,
   "metadata": {},
   "outputs": [],
   "source": [
    "# change the OUTPUT_PATH to where one wants to save output\n",
    "OUTPUT_PATH = r'your_path_here'\n",
    "\n",
    "def get_labels(fasta_file):\n",
    "    \n",
    "    seq_rec = list(SeqIO.parse(fasta_file, \"fasta\"))\n",
    "    labels=[]\n",
    "    samples=[]\n",
    "    for i,r in enumerate(seq_rec):\n",
    "        if r.name == r.description:\n",
    "            labels.append(r.name)\n",
    "        else:\n",
    "            labels.append(r.description.split(' ')[1])\n",
    "        samples.append(r.seq)\n",
    "    return labels, samples   "
   ]
  },
  {
   "cell_type": "code",
   "execution_count": 3,
   "metadata": {},
   "outputs": [],
   "source": [
    "#github path to data: https://github.com/IcarPA-TBlab/nrc/tree/master/data/ECCB2017\n",
    "\n",
    "fastaTrain='dataset_Rfam_6320_13classes.fasta'\n",
    "fastaTest='dataset_Rfam_validated_2600_13classes.fasta'\n",
    "\n",
    "ltrain, seqTrain = get_labels(fastaTrain)\n",
    "ltest, seqTest = get_labels(fastaTest)"
   ]
  },
  {
   "cell_type": "code",
   "execution_count": null,
   "metadata": {},
   "outputs": [],
   "source": []
  },
  {
   "cell_type": "code",
   "execution_count": 4,
   "metadata": {},
   "outputs": [],
   "source": [
    "index = []\n",
    "dct = {}\n",
    "for i, seq in enumerate(seqTrain):\n",
    "    if str(seq) not in dct:\n",
    "        dct[str(seq)] = i\n",
    "    else:\n",
    "        index.append(i)"
   ]
  },
  {
   "cell_type": "code",
   "execution_count": 5,
   "metadata": {},
   "outputs": [
    {
     "name": "stdout",
     "output_type": "stream",
     "text": [
      "[]\n"
     ]
    }
   ],
   "source": [
    "print(index)"
   ]
  },
  {
   "cell_type": "code",
   "execution_count": 6,
   "metadata": {},
   "outputs": [],
   "source": [
    "index = []\n",
    "for i, seq in enumerate(seqTest):\n",
    "    if str(seq) in dct:\n",
    "        index.append(i)"
   ]
  },
  {
   "cell_type": "code",
   "execution_count": 7,
   "metadata": {},
   "outputs": [
    {
     "name": "stdout",
     "output_type": "stream",
     "text": [
      "347\n"
     ]
    }
   ],
   "source": [
    "print(len(index))"
   ]
  },
  {
   "cell_type": "markdown",
   "metadata": {},
   "source": [
    "** we remove duplicates from test set **"
   ]
  },
  {
   "cell_type": "code",
   "execution_count": 8,
   "metadata": {},
   "outputs": [],
   "source": [
    "ltest = [x for i, x in enumerate(ltest) if i not in index]\n",
    "seqTest = [x for i, x in enumerate(seqTest) if i not in index]"
   ]
  },
  {
   "cell_type": "code",
   "execution_count": null,
   "metadata": {},
   "outputs": [],
   "source": []
  },
  {
   "cell_type": "code",
   "execution_count": 9,
   "metadata": {},
   "outputs": [],
   "source": [
    "labels = ltrain + ltest\n",
    "seqs = seqTrain + seqTest"
   ]
  },
  {
   "cell_type": "code",
   "execution_count": 10,
   "metadata": {},
   "outputs": [
    {
     "data": {
      "text/plain": [
       "tRNA           700\n",
       "5S_rRNA        697\n",
       "miRNA          696\n",
       "CD-box         695\n",
       "HACA-box       694\n",
       "riboswitch     693\n",
       "ribozyme       688\n",
       "5_8S_rRNA      684\n",
       "Intron_gpI     674\n",
       "Intron_gpII    660\n",
       "leader         645\n",
       "scaRNA         603\n",
       "IRES           444\n",
       "dtype: int64"
      ]
     },
     "execution_count": 10,
     "metadata": {},
     "output_type": "execute_result"
    }
   ],
   "source": [
    "pd.Series(labels).value_counts()"
   ]
  },
  {
   "cell_type": "code",
   "execution_count": null,
   "metadata": {},
   "outputs": [],
   "source": []
  },
  {
   "cell_type": "code",
   "execution_count": 11,
   "metadata": {},
   "outputs": [
    {
     "data": {
      "text/plain": [
       "LabelEncoder()"
      ]
     },
     "execution_count": 11,
     "metadata": {},
     "output_type": "execute_result"
    }
   ],
   "source": [
    "le = LabelEncoder()\n",
    "le.fit(labels)"
   ]
  },
  {
   "cell_type": "code",
   "execution_count": 12,
   "metadata": {},
   "outputs": [
    {
     "data": {
      "text/plain": [
       "<AxesSubplot:>"
      ]
     },
     "execution_count": 12,
     "metadata": {},
     "output_type": "execute_result"
    },
    {
     "data": {
      "image/png": "[encoded data removed]",
      "text/plain": [
       "<Figure size 432x288 with 1 Axes>"
      ]
     },
     "metadata": {
      "needs_background": "light"
     },
     "output_type": "display_data"
    }
   ],
   "source": [
    "# some pattern here -> need to shuffle\n",
    "pd.Series(le.transform(labels)).plot()"
   ]
  },
  {
   "cell_type": "code",
   "execution_count": 13,
   "metadata": {},
   "outputs": [],
   "source": [
    "labels, seqs = sklearn.utils.shuffle(labels, seqs, random_state=777)"
   ]
  },
  {
   "cell_type": "code",
   "execution_count": 14,
   "metadata": {},
   "outputs": [
    {
     "data": {
      "text/plain": [
       "<AxesSubplot:>"
      ]
     },
     "execution_count": 14,
     "metadata": {},
     "output_type": "execute_result"
    },
    {
     "data": {
      "image/png": "[encoded data removed]",
      "text/plain": [
       "<Figure size 432x288 with 1 Axes>"
      ]
     },
     "metadata": {
      "needs_background": "light"
     },
     "output_type": "display_data"
    }
   ],
   "source": [
    "# fixed now\n",
    "pd.Series(le.transform(labels)).plot()"
   ]
  },
  {
   "cell_type": "code",
   "execution_count": 15,
   "metadata": {},
   "outputs": [],
   "source": [
    "y_train, y_test, X_train, X_test = train_test_split(labels, seqs, test_size=0.2, stratify=labels)"
   ]
  },
  {
   "cell_type": "code",
   "execution_count": 17,
   "metadata": {},
   "outputs": [],
   "source": [
    "y_val, y_test, X_val, X_test = train_test_split(y_test, X_test, test_size=0.5, stratify=y_test)"
   ]
  },
  {
   "cell_type": "code",
   "execution_count": 18,
   "metadata": {},
   "outputs": [
    {
     "data": {
      "text/plain": [
       "5S_rRNA        1.014493\n",
       "5_8S_rRNA      0.985507\n",
       "CD-box         1.014493\n",
       "HACA-box       1.014493\n",
       "IRES           0.977778\n",
       "Intron_gpI     0.985294\n",
       "Intron_gpII    1.000000\n",
       "leader         0.984615\n",
       "miRNA          1.014493\n",
       "riboswitch     1.014493\n",
       "ribozyme       1.000000\n",
       "scaRNA         1.000000\n",
       "tRNA           1.000000\n",
       "dtype: float64"
      ]
     },
     "execution_count": 18,
     "metadata": {},
     "output_type": "execute_result"
    }
   ],
   "source": [
    "pd.Series(y_test).value_counts() / pd.Series(y_val).value_counts()"
   ]
  },
  {
   "cell_type": "code",
   "execution_count": null,
   "metadata": {},
   "outputs": [],
   "source": []
  },
  {
   "cell_type": "code",
   "execution_count": 19,
   "metadata": {},
   "outputs": [],
   "source": [
    "\n",
    "\n",
    "List_A_Eight = [1, 0, 0, 0, 0, 0, 1, 0]\n",
    "List_U_Eight = [0, 0, 1, 0, 1, 0, 0, 0]\n",
    "List_G_Eight = [0, 1, 0, 0, 0, 0, 0, 1]\n",
    "List_C_Eight = [0, 0, 0, 1, 0, 1, 0, 0]\n",
    "List_N_Eight = [0, 0, 0, 0, 0, 0, 0, 0] #The coding rules\n",
    "\n",
    "def encoder(Nsym, labels, sequences, filename):\n",
    "    \n",
    "    List_Matrix = [] # Save the matrix of ncRNAs\n",
    "    List_label = []  # Save the label of ncRNAs\n",
    "    \n",
    "    for lab in labels:\n",
    "\n",
    "        if(lab == '5S_rRNA'):\n",
    "            List_label.append(0)\n",
    "        elif(lab == '5_8S_rRNA'):\n",
    "            List_label.append(1)\n",
    "        elif (lab == 'tRNA'):\n",
    "            List_label.append(2)\n",
    "        elif (lab == 'ribozyme'):\n",
    "            List_label.append(3)\n",
    "        elif(lab == 'CD-box'):\n",
    "            List_label.append(4)\n",
    "        elif(lab == 'miRNA'):\n",
    "            List_label.append(5)\n",
    "        elif (lab == 'Intron_gpI'):\n",
    "            List_label.append(6)\n",
    "        elif (lab == 'Intron_gpII'):\n",
    "            List_label.append(7)\n",
    "        elif (lab == 'HACA-box'):\n",
    "            List_label.append(8)\n",
    "        elif(lab == 'riboswitch'):\n",
    "            List_label.append(9)\n",
    "        elif(lab == 'IRES'):\n",
    "            List_label.append(10)\n",
    "        elif (lab == 'leader'):\n",
    "            List_label.append(11)\n",
    "        elif (lab == 'scaRNA'):\n",
    "            List_label.append(12)\n",
    "        else:\n",
    "            print('new element')\n",
    "            List_label.append(13)\n",
    "     \n",
    "    for seq in sequences:\n",
    "        Tem_List = []\n",
    "        line = str(seq)\n",
    "        LENG = len(line)\n",
    "        for i in range(Nsym):\n",
    "            if i < LENG:\n",
    "                if(line[i] == 'A' or line[i] == 'a'):\n",
    "                    Tem_List.append(List_A_Eight)\n",
    "                elif (line[i] == 'T' or line[i] == 't'):\n",
    "                    Tem_List.append(List_U_Eight)\n",
    "                elif (line[i] == 'C' or line[i] == 'c'):\n",
    "                    Tem_List.append(List_C_Eight)\n",
    "                elif (line[i] == 'G' or line[i] == 'g'):\n",
    "                    Tem_List.append(List_G_Eight)\n",
    "                else:\n",
    "                    Tem_List.append(List_N_Eight)\n",
    "            else:\n",
    "                Tem_List.append(List_N_Eight)\n",
    "        Tem_List = np.array(Tem_List)\n",
    "        List_Matrix.append(Tem_List)\n",
    "    List_Matrix = np.array(List_Matrix)\n",
    "    List_label = np.array(List_label)\n",
    "    \n",
    "    with h5.File(os.path.join(OUTPUT_PATH, filename), 'w') as f: # Save the original data as h5 files.\n",
    "        f.create_dataset('Train_Data', data=List_Matrix)\n",
    "        f.create_dataset('Label', data=List_label)\n",
    "    \n",
    "    return List_Matrix, List_label\n"
   ]
  },
  {
   "cell_type": "code",
   "execution_count": null,
   "metadata": {},
   "outputs": [],
   "source": []
  },
  {
   "cell_type": "code",
   "execution_count": 25,
   "metadata": {},
   "outputs": [],
   "source": [
    "Nsym =500\n",
    "a, b = encoder(Nsym, y_train, X_train, 'e2e_Train_Data_{}.h5'.format(Nsym))\n",
    "c, d = encoder(Nsym, y_val, X_val, 'e2e_Val_Data_{}.h5'.format(Nsym))\n",
    "e, f = encoder(Nsym, y_test, X_test, 'e2e_Test_Data_{}.h5'.format(Nsym))"
   ]
  },
  {
   "cell_type": "code",
   "execution_count": null,
   "metadata": {},
   "outputs": [],
   "source": []
  },
  {
   "cell_type": "code",
   "execution_count": 30,
   "metadata": {},
   "outputs": [],
   "source": [
    "Nsym = 1000\n",
    "a, b = encoder(Nsym, y_train, X_train, 'e2e_Train_Data_{}.h5'.format(Nsym))\n",
    "c, d = encoder(Nsym, y_val, X_val, 'e2e_Val_Data_{}.h5'.format(Nsym))\n",
    "e, f = encoder(Nsym, y_test, X_test, 'e2e_Test_Data_{}.h5'.format(Nsym))"
   ]
  },
  {
   "cell_type": "code",
   "execution_count": null,
   "metadata": {},
   "outputs": [],
   "source": []
  },
  {
   "cell_type": "code",
   "execution_count": null,
   "metadata": {},
   "outputs": [],
   "source": []
  },
  {
   "cell_type": "markdown",
   "metadata": {},
   "source": [
    "## Secondary structure"
   ]
  },
  {
   "cell_type": "code",
   "execution_count": 20,
   "metadata": {},
   "outputs": [],
   "source": [
    "from subprocess import Popen, PIPE\n",
    "from tqdm import tqdm"
   ]
  },
  {
   "cell_type": "code",
   "execution_count": 21,
   "metadata": {},
   "outputs": [],
   "source": [
    "p = Popen(r'C:\\Program Files (x86)\\ViennaRNA Package\\RNAfold.exe' + ' -p -d2 --noLP', stdin=PIPE, stdout=PIPE) \n",
    "ans = p.communicate('ATGTTGGGTTCCCCGTGTTGAAAATGTGAAGTAT'.encode())"
   ]
  },
  {
   "cell_type": "code",
   "execution_count": 22,
   "metadata": {},
   "outputs": [
    {
     "data": {
      "text/plain": [
       "(b'AUGUUGGGUUCCCCGUGUUGAAAAUGUGAAGUAU\\r\\n.....(((...))).................... ( -2.70)\\r\\n....,(((...)))}................... [ -3.24]\\r\\n.....(((...))).................... { -2.70 d=0.96}\\r\\n frequency of mfe structure in ensemble 0.419461; ensemble diversity 1.43  \\r\\n',\n",
       " None)"
      ]
     },
     "execution_count": 22,
     "metadata": {},
     "output_type": "execute_result"
    }
   ],
   "source": [
    "ans"
   ]
  },
  {
   "cell_type": "code",
   "execution_count": 23,
   "metadata": {},
   "outputs": [],
   "source": [
    "def parser(rna_fold):\n",
    "    \n",
    "    rna_list = rna_fold[0].decode(\"utf-8\").split('\\r\\n')\n",
    "    orig_seq = rna_list[0]\n",
    "    space_loc = rna_list[1].find(' ')\n",
    "    \n",
    "    dot_seq = rna_list[1][:space_loc]\n",
    "    #minimum free energy\n",
    "    mfe = float(rna_list[1][space_loc+3:-1])\n",
    "    space_loc2 = rna_list[2].find(' ')\n",
    "    #free energy of thermodynamic ensemble\n",
    "    fete = float(rna_list[2][space_loc2+3:-1])\n",
    "    semic_loc = rna_list[4].find(';')\n",
    "    frequency_of_ens_str = float(rna_list[4][40:semic_loc])\n",
    "    diversity_loc = rna_list[4].find('diversity') + 10\n",
    "    ensemble_diversity = float(rna_list[4][diversity_loc:-1])\n",
    "    \n",
    "    return dot_seq, [mfe, fete, frequency_of_ens_str, ensemble_diversity]"
   ]
  },
  {
   "cell_type": "code",
   "execution_count": null,
   "metadata": {},
   "outputs": [],
   "source": []
  },
  {
   "cell_type": "code",
   "execution_count": 24,
   "metadata": {},
   "outputs": [],
   "source": [
    "def process_sequence_secondary(seqs_to_process):\n",
    "    \n",
    "    dotSeq = []\n",
    "    numS = []\n",
    "\n",
    "    for seq in tqdm(seqs_to_process):\n",
    "        p = Popen(r'C:\\Program Files (x86)\\ViennaRNA Package\\RNAfold.exe' + ' -p -d2 --noLP', stdin=PIPE, stdout=PIPE) \n",
    "        ans = p.communicate('{}'.format(str(seq)).encode())\n",
    "\n",
    "        dot, num = parser(ans)\n",
    "        dotSeq.append(dot)\n",
    "        numS.append(num)\n",
    "    \n",
    "    return dotSeq, numS"
   ]
  },
  {
   "cell_type": "code",
   "execution_count": 25,
   "metadata": {},
   "outputs": [
    {
     "name": "stderr",
     "output_type": "stream",
     "text": [
      "100%|██████████████████████████████████████████████████████████████████████████████████████████████████████████████████████████████████████████████████████████████| 6858/6858 [06:51<00:00, 16.65it/s]\n"
     ]
    }
   ],
   "source": [
    "dot_train, num_train = process_sequence_secondary(X_train)"
   ]
  },
  {
   "cell_type": "code",
   "execution_count": 26,
   "metadata": {},
   "outputs": [
    {
     "name": "stderr",
     "output_type": "stream",
     "text": [
      "100%|████████████████████████████████████████████████████████████████████████████████████████████████████████████████████████████████████████████████████████████████| 857/857 [00:52<00:00, 16.32it/s]\n"
     ]
    }
   ],
   "source": [
    "dot_val, num_val = process_sequence_secondary(X_val)"
   ]
  },
  {
   "cell_type": "code",
   "execution_count": 27,
   "metadata": {},
   "outputs": [
    {
     "name": "stderr",
     "output_type": "stream",
     "text": [
      "100%|████████████████████████████████████████████████████████████████████████████████████████████████████████████████████████████████████████████████████████████████| 858/858 [00:56<00:00, 15.21it/s]\n"
     ]
    }
   ],
   "source": [
    "dot_test, num_test = process_sequence_secondary(X_test)"
   ]
  },
  {
   "cell_type": "code",
   "execution_count": null,
   "metadata": {},
   "outputs": [],
   "source": []
  },
  {
   "cell_type": "code",
   "execution_count": null,
   "metadata": {},
   "outputs": [],
   "source": []
  },
  {
   "cell_type": "markdown",
   "metadata": {},
   "source": [
    "## Encoding secondary structure with original sequences"
   ]
  },
  {
   "cell_type": "code",
   "execution_count": 31,
   "metadata": {},
   "outputs": [
    {
     "name": "stdout",
     "output_type": "stream",
     "text": [
      "1182\n"
     ]
    }
   ],
   "source": [
    "print( max([len(str(x)) for x in X_train]))"
   ]
  },
  {
   "cell_type": "code",
   "execution_count": 32,
   "metadata": {},
   "outputs": [],
   "source": [
    "N_MAX = 1136"
   ]
  },
  {
   "cell_type": "code",
   "execution_count": null,
   "metadata": {},
   "outputs": [],
   "source": []
  },
  {
   "cell_type": "code",
   "execution_count": 43,
   "metadata": {},
   "outputs": [],
   "source": [
    "my_map = {'A':0, 'C':1, 'G':2, 'T':3, '(':0, ')':1, '.':2}\n",
    "\n",
    "def encoder12(seq, dot, MAX_N):\n",
    "    \n",
    "    base = np.zeros((MAX_N, 12), dtype=np.int8)\n",
    "    i = 0\n",
    "    for s, d in zip(seq, dot):\n",
    "        if s in my_map:\n",
    "            base[i, my_map[s]*3+my_map[d]] = 1\n",
    "        i += 1\n",
    "        if i >= MAX_N:\n",
    "            break\n",
    "    \n",
    "    return base"
   ]
  },
  {
   "cell_type": "code",
   "execution_count": 46,
   "metadata": {},
   "outputs": [],
   "source": [
    "def h5_secondary_saver(NMAX, rnaSeq, dotSeq, labels, filename):\n",
    "    \n",
    "\n",
    "    array = np.zeros((len(rnaSeq), NMAX, 12), dtype=np.int8)\n",
    "    i = 0\n",
    "    for seq, dot in zip(rnaSeq, dotSeq):\n",
    "        array[i, :, :] = encoder12(str(seq), dot, NMAX)\n",
    "        i += 1\n",
    "    \n",
    "    List_label = []\n",
    "    for lab in labels:\n",
    "\n",
    "        if(lab == '5S_rRNA'):\n",
    "            List_label.append(0)\n",
    "        elif(lab == '5_8S_rRNA'):\n",
    "            List_label.append(1)\n",
    "        elif (lab == 'tRNA'):\n",
    "            List_label.append(2)\n",
    "        elif (lab == 'ribozyme'):\n",
    "            List_label.append(3)\n",
    "        elif(lab == 'CD-box'):\n",
    "            List_label.append(4)\n",
    "        elif(lab == 'miRNA'):\n",
    "            List_label.append(5)\n",
    "        elif (lab == 'Intron_gpI'):\n",
    "            List_label.append(6)\n",
    "        elif (lab == 'Intron_gpII'):\n",
    "            List_label.append(7)\n",
    "        elif (lab == 'HACA-box'):\n",
    "            List_label.append(8)\n",
    "        elif(lab == 'riboswitch'):\n",
    "            List_label.append(9)\n",
    "        elif(lab == 'IRES'):\n",
    "            List_label.append(10)\n",
    "        elif (lab == 'leader'):\n",
    "            List_label.append(11)\n",
    "        elif (lab == 'scaRNA'):\n",
    "            List_label.append(12)\n",
    "        else:\n",
    "            print('new element')\n",
    "            List_label.append(13)\n",
    "    \n",
    "    List_label = np.array(List_label)\n",
    "    \n",
    "    with h5.File(os.path.join(OUTPUT_PATH, filename), 'w') as f: # Save the original data as h5 files.\n",
    "        f.create_dataset('Train_Data', data=np.array(array), dtype='int8')\n",
    "        f.create_dataset('Label', data=List_label)\n",
    "    "
   ]
  },
  {
   "cell_type": "code",
   "execution_count": 47,
   "metadata": {},
   "outputs": [],
   "source": [
    "h5_secondary_saver(N_MAX, X_train, dot_train, y_train, 'e2e_Train_Secondary_Data_{}.h5'.format(N_MAX))"
   ]
  },
  {
   "cell_type": "code",
   "execution_count": 48,
   "metadata": {},
   "outputs": [],
   "source": [
    "h5_secondary_saver(N_MAX, X_val, dot_val, y_val, 'e2e_Val_Secondary_Data_{}.h5'.format(N_MAX))"
   ]
  },
  {
   "cell_type": "code",
   "execution_count": 50,
   "metadata": {},
   "outputs": [],
   "source": [
    "h5_secondary_saver(N_MAX, X_test, dot_test, y_test, 'e2e_Test_Secondary_Data_{}.h5'.format(N_MAX))"
   ]
  },
  {
   "cell_type": "code",
   "execution_count": null,
   "metadata": {},
   "outputs": [],
   "source": []
  },
  {
   "cell_type": "code",
   "execution_count": null,
   "metadata": {},
   "outputs": [],
   "source": []
  },
  {
   "cell_type": "markdown",
   "metadata": {},
   "source": [
    "## Encoding secondary structure w/o original sequences"
   ]
  },
  {
   "cell_type": "code",
   "execution_count": null,
   "metadata": {},
   "outputs": [],
   "source": []
  },
  {
   "cell_type": "code",
   "execution_count": 28,
   "metadata": {},
   "outputs": [],
   "source": [
    "N_MAX = 1000"
   ]
  },
  {
   "cell_type": "code",
   "execution_count": 29,
   "metadata": {},
   "outputs": [],
   "source": [
    "my_map3 = {'(':0, ')':1, '.':2}\n",
    "\n",
    "def encoder3(dot, MAX_N):\n",
    "    \n",
    "    base = np.zeros((MAX_N, 3), dtype=np.int8)\n",
    "    for i, d in enumerate(dot):\n",
    "        base[i, my_map3[d]] = 1\n",
    "        if i+1 >= MAX_N:\n",
    "            break\n",
    "    \n",
    "    return base"
   ]
  },
  {
   "cell_type": "code",
   "execution_count": 38,
   "metadata": {},
   "outputs": [],
   "source": [
    "def h5_just_secondary_saver(NMAX, dotSeq, labels, filename):\n",
    "    \n",
    "\n",
    "    array = np.zeros((len(dotSeq), NMAX, 3), dtype=np.int8)\n",
    "    for i, dot in enumerate(dotSeq):\n",
    "        array[i, :, :] = encoder3(dot, NMAX)\n",
    "    \n",
    "    List_label = []\n",
    "    for lab in labels:\n",
    "\n",
    "        if(lab == '5S_rRNA'):\n",
    "            List_label.append(0)\n",
    "        elif(lab == '5_8S_rRNA'):\n",
    "            List_label.append(1)\n",
    "        elif (lab == 'tRNA'):\n",
    "            List_label.append(2)\n",
    "        elif (lab == 'ribozyme'):\n",
    "            List_label.append(3)\n",
    "        elif(lab == 'CD-box'):\n",
    "            List_label.append(4)\n",
    "        elif(lab == 'miRNA'):\n",
    "            List_label.append(5)\n",
    "        elif (lab == 'Intron_gpI'):\n",
    "            List_label.append(6)\n",
    "        elif (lab == 'Intron_gpII'):\n",
    "            List_label.append(7)\n",
    "        elif (lab == 'HACA-box'):\n",
    "            List_label.append(8)\n",
    "        elif(lab == 'riboswitch'):\n",
    "            List_label.append(9)\n",
    "        elif(lab == 'IRES'):\n",
    "            List_label.append(10)\n",
    "        elif (lab == 'leader'):\n",
    "            List_label.append(11)\n",
    "        elif (lab == 'scaRNA'):\n",
    "            List_label.append(12)\n",
    "        else:\n",
    "            print('new element')\n",
    "            List_label.append(13)\n",
    "    \n",
    "    List_label = np.array(List_label)\n",
    "    \n",
    "    with h5.File(os.path.join(OUTPUT_PATH, filename), 'w') as f: # Save the original data as h5 files.\n",
    "        f.create_dataset('Train_Data', data=np.array(array), dtype='int8')\n",
    "        f.create_dataset('Label', data=List_label)\n",
    "    "
   ]
  },
  {
   "cell_type": "code",
   "execution_count": null,
   "metadata": {},
   "outputs": [],
   "source": []
  },
  {
   "cell_type": "code",
   "execution_count": 39,
   "metadata": {},
   "outputs": [],
   "source": [
    "h5_just_secondary_saver(N_MAX, dot_train, y_train, 'e2e_Train_just_Secondary_Data_{}.h5'.format(N_MAX))"
   ]
  },
  {
   "cell_type": "code",
   "execution_count": 40,
   "metadata": {},
   "outputs": [],
   "source": [
    "h5_just_secondary_saver(N_MAX, dot_val, y_val, 'e2e_Val_just_Secondary_Data_{}.h5'.format(N_MAX))"
   ]
  },
  {
   "cell_type": "code",
   "execution_count": 41,
   "metadata": {},
   "outputs": [],
   "source": [
    "h5_just_secondary_saver(N_MAX, dot_test, y_test, 'e2e_Test_just_Secondary_Data_{}.h5'.format(N_MAX))"
   ]
  },
  {
   "cell_type": "code",
   "execution_count": null,
   "metadata": {},
   "outputs": [],
   "source": []
  },
  {
   "cell_type": "code",
   "execution_count": null,
   "metadata": {},
   "outputs": [],
   "source": []
  }
 ],
 "metadata": {
  "kernelspec": {
   "display_name": "Python 3",
   "language": "python",
   "name": "python3"
  },
  "language_info": {
   "codemirror_mode": {
    "name": "ipython",
    "version": 3
   },
   "file_extension": ".py",
   "mimetype": "text/x-python",
   "name": "python",
   "nbconvert_exporter": "python",
   "pygments_lexer": "ipython3",
   "version": "3.7.4"
  }
 },
 "nbformat": 4,
 "nbformat_minor": 2
}
